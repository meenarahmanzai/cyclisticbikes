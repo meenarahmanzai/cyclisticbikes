{
  "nbformat": 4,
  "nbformat_minor": 0,
  "metadata": {
    "colab": {
      "provenance": [],
      "authorship_tag": "ABX9TyM4lvXNrByGeLO9zFIAnCqc",
      "include_colab_link": true
    },
    "kernelspec": {
      "name": "python3",
      "display_name": "Python 3"
    },
    "language_info": {
      "name": "python"
    }
  },
  "cells": [
    {
      "cell_type": "markdown",
      "metadata": {
        "id": "view-in-github",
        "colab_type": "text"
      },
      "source": [
        "<a href=\"https://colab.research.google.com/github/meenarahmanzai/data-analysis-portfolio/blob/main/sanfrancisco_bikeshare_casestudy.ipynb\" target=\"_parent\"><img src=\"https://colab.research.google.com/assets/colab-badge.svg\" alt=\"Open In Colab\"/></a>"
      ]
    },
    {
      "cell_type": "markdown",
      "source": [],
      "metadata": {
        "id": "zdO2748RtcaO"
      }
    },
    {
      "cell_type": "code",
      "execution_count": 2,
      "metadata": {
        "colab": {
          "base_uri": "https://localhost:8080/"
        },
        "collapsed": true,
        "id": "BgiVnnEosoVA",
        "outputId": "104cf98b-aafb-4a6d-b35e-1343f3c91c12"
      },
      "outputs": [
        {
          "output_type": "stream",
          "name": "stdout",
          "text": [
            "Requirement already satisfied: ipython-sql in /usr/local/lib/python3.10/dist-packages (0.5.0)\n",
            "Requirement already satisfied: sqlalchemy in /usr/local/lib/python3.10/dist-packages (2.0.36)\n",
            "Requirement already satisfied: pandas in /usr/local/lib/python3.10/dist-packages (2.2.2)\n",
            "Requirement already satisfied: prettytable in /usr/local/lib/python3.10/dist-packages (from ipython-sql) (3.12.0)\n",
            "Requirement already satisfied: ipython in /usr/local/lib/python3.10/dist-packages (from ipython-sql) (7.34.0)\n",
            "Requirement already satisfied: sqlparse in /usr/local/lib/python3.10/dist-packages (from ipython-sql) (0.5.3)\n",
            "Requirement already satisfied: six in /usr/local/lib/python3.10/dist-packages (from ipython-sql) (1.17.0)\n",
            "Requirement already satisfied: ipython-genutils in /usr/local/lib/python3.10/dist-packages (from ipython-sql) (0.2.0)\n",
            "Requirement already satisfied: typing-extensions>=4.6.0 in /usr/local/lib/python3.10/dist-packages (from sqlalchemy) (4.12.2)\n",
            "Requirement already satisfied: greenlet!=0.4.17 in /usr/local/lib/python3.10/dist-packages (from sqlalchemy) (3.1.1)\n",
            "Requirement already satisfied: numpy>=1.22.4 in /usr/local/lib/python3.10/dist-packages (from pandas) (1.26.4)\n",
            "Requirement already satisfied: python-dateutil>=2.8.2 in /usr/local/lib/python3.10/dist-packages (from pandas) (2.8.2)\n",
            "Requirement already satisfied: pytz>=2020.1 in /usr/local/lib/python3.10/dist-packages (from pandas) (2024.2)\n",
            "Requirement already satisfied: tzdata>=2022.7 in /usr/local/lib/python3.10/dist-packages (from pandas) (2024.2)\n",
            "Requirement already satisfied: setuptools>=18.5 in /usr/local/lib/python3.10/dist-packages (from ipython->ipython-sql) (75.1.0)\n",
            "Collecting jedi>=0.16 (from ipython->ipython-sql)\n",
            "  Downloading jedi-0.19.2-py2.py3-none-any.whl.metadata (22 kB)\n",
            "Requirement already satisfied: decorator in /usr/local/lib/python3.10/dist-packages (from ipython->ipython-sql) (4.4.2)\n",
            "Requirement already satisfied: pickleshare in /usr/local/lib/python3.10/dist-packages (from ipython->ipython-sql) (0.7.5)\n",
            "Requirement already satisfied: traitlets>=4.2 in /usr/local/lib/python3.10/dist-packages (from ipython->ipython-sql) (5.7.1)\n",
            "Requirement already satisfied: prompt-toolkit!=3.0.0,!=3.0.1,<3.1.0,>=2.0.0 in /usr/local/lib/python3.10/dist-packages (from ipython->ipython-sql) (3.0.48)\n",
            "Requirement already satisfied: pygments in /usr/local/lib/python3.10/dist-packages (from ipython->ipython-sql) (2.18.0)\n",
            "Requirement already satisfied: backcall in /usr/local/lib/python3.10/dist-packages (from ipython->ipython-sql) (0.2.0)\n",
            "Requirement already satisfied: matplotlib-inline in /usr/local/lib/python3.10/dist-packages (from ipython->ipython-sql) (0.1.7)\n",
            "Requirement already satisfied: pexpect>4.3 in /usr/local/lib/python3.10/dist-packages (from ipython->ipython-sql) (4.9.0)\n",
            "Requirement already satisfied: wcwidth in /usr/local/lib/python3.10/dist-packages (from prettytable->ipython-sql) (0.2.13)\n",
            "Requirement already satisfied: parso<0.9.0,>=0.8.4 in /usr/local/lib/python3.10/dist-packages (from jedi>=0.16->ipython->ipython-sql) (0.8.4)\n",
            "Requirement already satisfied: ptyprocess>=0.5 in /usr/local/lib/python3.10/dist-packages (from pexpect>4.3->ipython->ipython-sql) (0.7.0)\n",
            "Downloading jedi-0.19.2-py2.py3-none-any.whl (1.6 MB)\n",
            "\u001b[2K   \u001b[90m━━━━━━━━━━━━━━━━━━━━━━━━━━━━━━━━━━━━━━━━\u001b[0m \u001b[32m1.6/1.6 MB\u001b[0m \u001b[31m20.0 MB/s\u001b[0m eta \u001b[36m0:00:00\u001b[0m\n",
            "\u001b[?25hInstalling collected packages: jedi\n",
            "Successfully installed jedi-0.19.2\n"
          ]
        }
      ],
      "source": [
        "!pip install ipython-sql sqlalchemy pandas"
      ]
    },
    {
      "cell_type": "code",
      "source": [
        "%load_ext sql\n",
        "%sql sqlite:///bikeshare.db"
      ],
      "metadata": {
        "id": "wV6TK8dtszwy"
      },
      "execution_count": 3,
      "outputs": []
    },
    {
      "cell_type": "code",
      "source": [
        "!pip install --upgrade google-cloud-bigquery pandas"
      ],
      "metadata": {
        "colab": {
          "base_uri": "https://localhost:8080/",
          "height": 1000
        },
        "collapsed": true,
        "id": "3mByot-muI2h",
        "outputId": "682b4a11-d35d-4baa-e50a-04924e78e9b3"
      },
      "execution_count": 7,
      "outputs": [
        {
          "output_type": "stream",
          "name": "stdout",
          "text": [
            "Requirement already satisfied: google-cloud-bigquery in /usr/local/lib/python3.10/dist-packages (3.25.0)\n",
            "Collecting google-cloud-bigquery\n",
            "  Downloading google_cloud_bigquery-3.27.0-py2.py3-none-any.whl.metadata (8.6 kB)\n",
            "Requirement already satisfied: pandas in /usr/local/lib/python3.10/dist-packages (2.2.2)\n",
            "Collecting pandas\n",
            "  Downloading pandas-2.2.3-cp310-cp310-manylinux_2_17_x86_64.manylinux2014_x86_64.whl.metadata (89 kB)\n",
            "\u001b[2K     \u001b[90m━━━━━━━━━━━━━━━━━━━━━━━━━━━━━━━━━━━━━━━━\u001b[0m \u001b[32m89.9/89.9 kB\u001b[0m \u001b[31m2.8 MB/s\u001b[0m eta \u001b[36m0:00:00\u001b[0m\n",
            "\u001b[?25hRequirement already satisfied: google-api-core<3.0.0dev,>=2.11.1 in /usr/local/lib/python3.10/dist-packages (from google-api-core[grpc]<3.0.0dev,>=2.11.1->google-cloud-bigquery) (2.19.2)\n",
            "Requirement already satisfied: google-auth<3.0.0dev,>=2.14.1 in /usr/local/lib/python3.10/dist-packages (from google-cloud-bigquery) (2.27.0)\n",
            "Requirement already satisfied: google-cloud-core<3.0.0dev,>=2.4.1 in /usr/local/lib/python3.10/dist-packages (from google-cloud-bigquery) (2.4.1)\n",
            "Requirement already satisfied: google-resumable-media<3.0dev,>=2.0.0 in /usr/local/lib/python3.10/dist-packages (from google-cloud-bigquery) (2.7.2)\n",
            "Requirement already satisfied: packaging>=20.0.0 in /usr/local/lib/python3.10/dist-packages (from google-cloud-bigquery) (24.2)\n",
            "Requirement already satisfied: python-dateutil<3.0dev,>=2.7.3 in /usr/local/lib/python3.10/dist-packages (from google-cloud-bigquery) (2.8.2)\n",
            "Requirement already satisfied: requests<3.0.0dev,>=2.21.0 in /usr/local/lib/python3.10/dist-packages (from google-cloud-bigquery) (2.32.3)\n",
            "Requirement already satisfied: numpy>=1.22.4 in /usr/local/lib/python3.10/dist-packages (from pandas) (1.26.4)\n",
            "Requirement already satisfied: pytz>=2020.1 in /usr/local/lib/python3.10/dist-packages (from pandas) (2024.2)\n",
            "Requirement already satisfied: tzdata>=2022.7 in /usr/local/lib/python3.10/dist-packages (from pandas) (2024.2)\n",
            "Requirement already satisfied: googleapis-common-protos<2.0.dev0,>=1.56.2 in /usr/local/lib/python3.10/dist-packages (from google-api-core<3.0.0dev,>=2.11.1->google-api-core[grpc]<3.0.0dev,>=2.11.1->google-cloud-bigquery) (1.66.0)\n",
            "Requirement already satisfied: protobuf!=3.20.0,!=3.20.1,!=4.21.0,!=4.21.1,!=4.21.2,!=4.21.3,!=4.21.4,!=4.21.5,<6.0.0.dev0,>=3.19.5 in /usr/local/lib/python3.10/dist-packages (from google-api-core<3.0.0dev,>=2.11.1->google-api-core[grpc]<3.0.0dev,>=2.11.1->google-cloud-bigquery) (4.25.5)\n",
            "Requirement already satisfied: proto-plus<2.0.0dev,>=1.22.3 in /usr/local/lib/python3.10/dist-packages (from google-api-core<3.0.0dev,>=2.11.1->google-api-core[grpc]<3.0.0dev,>=2.11.1->google-cloud-bigquery) (1.25.0)\n",
            "Requirement already satisfied: grpcio<2.0dev,>=1.33.2 in /usr/local/lib/python3.10/dist-packages (from google-api-core[grpc]<3.0.0dev,>=2.11.1->google-cloud-bigquery) (1.69.0)\n",
            "Requirement already satisfied: grpcio-status<2.0.dev0,>=1.33.2 in /usr/local/lib/python3.10/dist-packages (from google-api-core[grpc]<3.0.0dev,>=2.11.1->google-cloud-bigquery) (1.62.3)\n",
            "Requirement already satisfied: cachetools<6.0,>=2.0.0 in /usr/local/lib/python3.10/dist-packages (from google-auth<3.0.0dev,>=2.14.1->google-cloud-bigquery) (5.5.0)\n",
            "Requirement already satisfied: pyasn1-modules>=0.2.1 in /usr/local/lib/python3.10/dist-packages (from google-auth<3.0.0dev,>=2.14.1->google-cloud-bigquery) (0.4.1)\n",
            "Requirement already satisfied: rsa<5,>=3.1.4 in /usr/local/lib/python3.10/dist-packages (from google-auth<3.0.0dev,>=2.14.1->google-cloud-bigquery) (4.9)\n",
            "Requirement already satisfied: google-crc32c<2.0dev,>=1.0 in /usr/local/lib/python3.10/dist-packages (from google-resumable-media<3.0dev,>=2.0.0->google-cloud-bigquery) (1.6.0)\n",
            "Requirement already satisfied: six>=1.5 in /usr/local/lib/python3.10/dist-packages (from python-dateutil<3.0dev,>=2.7.3->google-cloud-bigquery) (1.17.0)\n",
            "Requirement already satisfied: charset-normalizer<4,>=2 in /usr/local/lib/python3.10/dist-packages (from requests<3.0.0dev,>=2.21.0->google-cloud-bigquery) (3.4.1)\n",
            "Requirement already satisfied: idna<4,>=2.5 in /usr/local/lib/python3.10/dist-packages (from requests<3.0.0dev,>=2.21.0->google-cloud-bigquery) (3.10)\n",
            "Requirement already satisfied: urllib3<3,>=1.21.1 in /usr/local/lib/python3.10/dist-packages (from requests<3.0.0dev,>=2.21.0->google-cloud-bigquery) (2.3.0)\n",
            "Requirement already satisfied: certifi>=2017.4.17 in /usr/local/lib/python3.10/dist-packages (from requests<3.0.0dev,>=2.21.0->google-cloud-bigquery) (2024.12.14)\n",
            "Requirement already satisfied: pyasn1<0.7.0,>=0.4.6 in /usr/local/lib/python3.10/dist-packages (from pyasn1-modules>=0.2.1->google-auth<3.0.0dev,>=2.14.1->google-cloud-bigquery) (0.6.1)\n",
            "Downloading google_cloud_bigquery-3.27.0-py2.py3-none-any.whl (240 kB)\n",
            "\u001b[2K   \u001b[90m━━━━━━━━━━━━━━━━━━━━━━━━━━━━━━━━━━━━━━━━\u001b[0m \u001b[32m240.1/240.1 kB\u001b[0m \u001b[31m8.1 MB/s\u001b[0m eta \u001b[36m0:00:00\u001b[0m\n",
            "\u001b[?25hDownloading pandas-2.2.3-cp310-cp310-manylinux_2_17_x86_64.manylinux2014_x86_64.whl (13.1 MB)\n",
            "\u001b[2K   \u001b[90m━━━━━━━━━━━━━━━━━━━━━━━━━━━━━━━━━━━━━━━━\u001b[0m \u001b[32m13.1/13.1 MB\u001b[0m \u001b[31m72.9 MB/s\u001b[0m eta \u001b[36m0:00:00\u001b[0m\n",
            "\u001b[?25hInstalling collected packages: pandas, google-cloud-bigquery\n",
            "  Attempting uninstall: pandas\n",
            "    Found existing installation: pandas 2.2.2\n",
            "    Uninstalling pandas-2.2.2:\n",
            "      Successfully uninstalled pandas-2.2.2\n",
            "  Attempting uninstall: google-cloud-bigquery\n",
            "    Found existing installation: google-cloud-bigquery 3.25.0\n",
            "    Uninstalling google-cloud-bigquery-3.25.0:\n",
            "      Successfully uninstalled google-cloud-bigquery-3.25.0\n",
            "\u001b[31mERROR: pip's dependency resolver does not currently take into account all the packages that are installed. This behaviour is the source of the following dependency conflicts.\n",
            "cudf-cu12 24.10.1 requires pandas<2.2.3dev0,>=2.0, but you have pandas 2.2.3 which is incompatible.\n",
            "google-colab 1.0.0 requires pandas==2.2.2, but you have pandas 2.2.3 which is incompatible.\u001b[0m\u001b[31m\n",
            "\u001b[0mSuccessfully installed google-cloud-bigquery-3.27.0 pandas-2.2.3\n"
          ]
        },
        {
          "output_type": "display_data",
          "data": {
            "application/vnd.colab-display-data+json": {
              "pip_warning": {
                "packages": [
                  "google"
                ]
              },
              "id": "dca8b7d726b642389ac333f1c9e1193f"
            }
          },
          "metadata": {}
        }
      ]
    },
    {
      "cell_type": "code",
      "source": [
        "from google.colab import auth\n",
        "auth.authenticate_user()"
      ],
      "metadata": {
        "id": "DOM2iYLDuMef"
      },
      "execution_count": 13,
      "outputs": []
    },
    {
      "cell_type": "code",
      "source": [
        "from google.cloud import bigquery\n",
        "import pandas as pd"
      ],
      "metadata": {
        "id": "2Brp2LSPuqne"
      },
      "execution_count": 20,
      "outputs": []
    },
    {
      "cell_type": "code",
      "source": [
        "client = bigquery.Client()"
      ],
      "metadata": {
        "id": "sJVuPMsruv6d"
      },
      "execution_count": 15,
      "outputs": []
    },
    {
      "cell_type": "markdown",
      "source": [
        "# San Francisco BikeShare Dataset Analysis\n",
        "## Business Task\n",
        "-- The goal of this analysis is to come up with a strategy on how to get customers to become subsribers. To do this, we will evaluate our customers and subscribers bike usage patterns and which stations are most popular.\n",
        "\n",
        "-- First we will analyze the number of trips taken per day."
      ],
      "metadata": {
        "id": "864OLyt4s_kE"
      }
    },
    {
      "cell_type": "code",
      "source": [
        "query = \"\"\"\n",
        "SELECT\n",
        "  DATE(start_date) AS trip_date,\n",
        "  COUNT(*) AS trip_count\n",
        "FROM\n",
        "  `bigquery-public-data.san_francisco_bikeshare.bikeshare_trips`\n",
        "GROUP BY\n",
        "  trip_date\n",
        "ORDER BY\n",
        "  trip_date DESC;\n",
        "\"\"\""
      ],
      "metadata": {
        "id": "lBwSsDYIuzAI"
      },
      "execution_count": 23,
      "outputs": []
    },
    {
      "cell_type": "markdown",
      "source": [
        "-- Next, we will analyze the number of trips taken per month and order by trip_count DESC to view which months were the most popular."
      ],
      "metadata": {
        "id": "rVZ5zoTfwgZq"
      }
    },
    {
      "cell_type": "code",
      "source": [
        "query = \"\"\"\n",
        "SELECT\n",
        "  EXTRACT(YEAR FROM start_date) AS year,\n",
        "  EXTRACT(MONTH FROM start_date) AS month,\n",
        "  COUNT(*) AS trip_count\n",
        "FROM\n",
        "  `bigquery-public-data.san_francisco_bikeshare.bikeshare_trips`\n",
        "GROUP BY\n",
        "  year, month\n",
        "ORDER BY\n",
        "  trip_count DESC;SELECT\n",
        "  EXTRACT(YEAR FROM start_date) AS year,\n",
        "  EXTRACT(MONTH FROM start_date) AS month,\n",
        "  COUNT(*) AS trip_count\n",
        "FROM\n",
        "  `bigquery-public-data.san_francisco_bikeshare.bikeshare_trips`\n",
        "GROUP BY\n",
        "  year, month\n",
        "ORDER BY\n",
        "  trip_count DESC;\n",
        "\"\"\""
      ],
      "metadata": {
        "id": "X7jOGgJgwl1h"
      },
      "execution_count": 28,
      "outputs": []
    },
    {
      "cell_type": "markdown",
      "source": [
        "-- Now we will analyze the average trip duration by the hour of the day. This will help identify if certain times of the day have shorter or longer bike trips, what the peak times are."
      ],
      "metadata": {
        "id": "eG_fuqlcw8wI"
      }
    },
    {
      "cell_type": "code",
      "source": [
        "query = \"\"\"\n",
        "SELECT\n",
        "  EXTRACT(HOUR FROM start_date) AS hour_of_day,\n",
        "  AVG(duration_sec) AS avg_duration_sec\n",
        "FROM\n",
        "  `bigquery-public-data.san_francisco_bikeshare.bikeshare_trips`\n",
        "GROUP BY\n",
        "  hour_of_day\n",
        "ORDER BY\n",
        "  avg_duration_sec DESC;\n",
        "\"\"\""
      ],
      "metadata": {
        "id": "nAHV7hhow_oh"
      },
      "execution_count": 30,
      "outputs": []
    },
    {
      "cell_type": "markdown",
      "source": [
        "-- From this we can see that 3 am, 2am, and 1 am are the times our bikes are used the longest. We can infer that people rely on our bikes to get home after public transport lines stop.\n",
        "\n",
        "-- Now we will query the most popular bike stations based on the number of trips that start or end there."
      ],
      "metadata": {
        "id": "6Ey5Y9IyxGkQ"
      }
    },
    {
      "cell_type": "code",
      "source": [
        "query = \"\"\"\n",
        "SELECT\n",
        "  start_station_name,\n",
        "  COUNT(*) AS start_trip_count\n",
        "FROM\n",
        "  `bigquery-public-data.san_francisco_bikeshare.bikeshare_trips`\n",
        "GROUP BY\n",
        "  start_station_name\n",
        "ORDER BY\n",
        "  start_trip_count DESC\n",
        "LIMIT 10;\n",
        "\"\"\""
      ],
      "metadata": {
        "id": "QXFp8_1sxJyg"
      },
      "execution_count": 31,
      "outputs": []
    },
    {
      "cell_type": "code",
      "source": [
        "query = \"\"\"\n",
        "SELECT\n",
        "  end_station_name,\n",
        "  COUNT(*) AS end_trip_count\n",
        "FROM\n",
        "  `bigquery-public-data.san_francisco_bikeshare.bikeshare_trips`\n",
        "GROUP BY\n",
        "  end_station_name\n",
        "ORDER BY\n",
        "  end_trip_count DESC\n",
        "LIMIT 10;\n",
        "\"\"\""
      ],
      "metadata": {
        "id": "Cy1zBV5_xSEy"
      },
      "execution_count": null,
      "outputs": []
    },
    {
      "cell_type": "markdown",
      "source": [
        "-- From the results we can concur that the top 3 popular start and end stations are San Francisco Caltrain, San Francisco Caltrain 2, and Harry Bridges Plaza. The top 3 popular start and end stations being the same stations tell us that users most likely return the bikes from the same place they rent it from.\n",
        "\n",
        "-- Now, we will compare the average trip duration by user type (e.g., \"Subscriber\" vs. \"Customer\")."
      ],
      "metadata": {
        "id": "0W4SmrvTxVuA"
      }
    },
    {
      "cell_type": "code",
      "source": [
        "query = \"\"\"\n",
        "SELECT\n",
        "  subscriber_type,\n",
        "  AVG(duration_sec) AS avg_duration_sec\n",
        "FROM\n",
        "  `bigquery-public-data.san_francisco_bikeshare.bikeshare_trips`\n",
        "GROUP BY\n",
        "  subscriber_type\n",
        "ORDER BY\n",
        "  avg_duration_sec DESC;\n",
        "\"\"\""
      ],
      "metadata": {
        "id": "-FD7SPNCxYVv"
      },
      "execution_count": 32,
      "outputs": []
    },
    {
      "cell_type": "markdown",
      "source": [
        "-- From this query we come across another subsriber type \"nan\". After taking a look at the table again, it seems there is another column named c_subscription_type that indicated what kind of user the rider was where the subscriber_type column doesn't. To get a more accurate result, we will combine the columns so that the data is uniform and make it a new column named combined_subscription_type."
      ],
      "metadata": {
        "id": "kw1AjfdBxepA"
      }
    },
    {
      "cell_type": "code",
      "source": [
        "query = \"\"\"\n",
        "SELECT\n",
        "  combined_subscription_type,\n",
        "  AVG(duration_sec) AS avg_duration_sec\n",
        "FROM\n",
        "  (\n",
        "    SELECT\n",
        "      IF(subscriber_type = 'nan', c_subscription_type, subscriber_type) AS combined_subscription_type,\n",
        "      duration_sec\n",
        "    FROM\n",
        "      `bigquery-public-data.san_francisco_bikeshare.bikeshare_trips`)\n",
        "GROUP BY\n",
        "  combined_subscription_type\n",
        "ORDER BY\n",
        "  avg_duration_sec DESC;\n",
        "\"\"\""
      ],
      "metadata": {
        "id": "JisdMX6FxhZq"
      },
      "execution_count": 33,
      "outputs": []
    },
    {
      "cell_type": "markdown",
      "source": [
        "-- From this we can see that on average, customers use our bikes for longer trips than subscribers.\n",
        "\n",
        "-- Now that we know which user type uses our bikes for a longer duration, we will now analyze which user type takes more trips on average. We will be using the combined column we made for accurate results."
      ],
      "metadata": {
        "id": "u_l28YRLxnXu"
      }
    },
    {
      "cell_type": "code",
      "source": [
        "query = \"\"\"\n",
        "WITH combined_data AS (\n",
        "  SELECT\n",
        "    IF(subscriber_type = 'nan', c_subscription_type, subscriber_type) AS combined_subscription_type,\n",
        "    duration_sec\n",
        "  FROM\n",
        "    `bigquery-public-data.san_francisco_bikeshare.bikeshare_trips`\n",
        ")\n",
        "\n",
        "SELECT\n",
        "  combined_subscription_type,\n",
        "  COUNT(*) AS total_trips,\n",
        "  SUM(duration_sec) AS total_duration_sec,\n",
        "  AVG(duration_sec) AS avg_trip_duration_sec\n",
        "FROM\n",
        "  combined_data\n",
        "GROUP BY\n",
        "  combined_subscription_type\n",
        "ORDER BY\n",
        "  total_trips DESC;\n",
        "\"\"\""
      ],
      "metadata": {
        "id": "dXt7i1m3xp9k"
      },
      "execution_count": 34,
      "outputs": []
    },
    {
      "cell_type": "markdown",
      "source": [
        "-- From this we can concur that subscribers took more trips than customers.\n",
        "\n",
        "# Conclusion\n",
        "-- After analyzing the data, we conclude that while customers tend to use our bikes for longer trips, subscribers take a significantly higher number of trips overall. Additionally, the top three most popular start and end stations are San Francisco Caltrain, San Francisco Caltrain 2, and Harry Bridges Plaza. To encourage more customers to become subscribers, we could implement a points system where riders earn points for each trip taken or distance ridden. We could also offer flexible subscription options, for example, a Pay-per-mile subscription option for long-distance riders. Furthermore, since the top three start stations are in high demand, ensuring bike availability is crucial for a positive user experience. We could implement a \"Station Full\" notification feature on our app to redirect riders to nearby stations when a station is full."
      ],
      "metadata": {
        "id": "pvTnl81Dxwyw"
      }
    }
  ]
}