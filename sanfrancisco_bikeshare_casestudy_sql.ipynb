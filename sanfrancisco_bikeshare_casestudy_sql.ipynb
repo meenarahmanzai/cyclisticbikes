{
  "nbformat": 4,
  "nbformat_minor": 0,
  "metadata": {
    "colab": {
      "provenance": [],
      "authorship_tag": "ABX9TyNjM0g+kuf29wAcPp6yrkRg",
      "include_colab_link": true
    },
    "kernelspec": {
      "name": "python3",
      "display_name": "Python 3"
    },
    "language_info": {
      "name": "python"
    }
  },
  "cells": [
    {
      "cell_type": "markdown",
      "metadata": {
        "id": "view-in-github",
        "colab_type": "text"
      },
      "source": [
        "<a href=\"https://colab.research.google.com/github/meenarahmanzai/data-analysis-portfolio/blob/main/sanfrancisco_bikeshare_casestudy_sql.ipynb\" target=\"_parent\"><img src=\"https://colab.research.google.com/assets/colab-badge.svg\" alt=\"Open In Colab\"/></a>"
      ]
    },
    {
      "cell_type": "markdown",
      "source": [],
      "metadata": {
        "id": "zdO2748RtcaO"
      }
    },
    {
      "cell_type": "markdown",
      "source": [
        "# San Francisco BikeShare Dataset Analysis\n",
        "## Business Task\n",
        "-- The goal of this analysis is to come up with a strategy on how to get customers to become subsribers. To do this, we will evaluate our customers and subscribers bike usage patterns and which stations are most popular.\n",
        "\n",
        "-- First we will analyze the number of trips taken per day."
      ],
      "metadata": {
        "id": "864OLyt4s_kE"
      }
    },
    {
      "cell_type": "code",
      "source": [
        "query = \"\"\"\n",
        "SELECT\n",
        "  DATE(start_date) AS trip_date,\n",
        "  COUNT(*) AS trip_count\n",
        "FROM\n",
        "  `bigquery-public-data.san_francisco_bikeshare.bikeshare_trips`\n",
        "GROUP BY\n",
        "  trip_date\n",
        "ORDER BY\n",
        "  trip_date DESC;\n",
        "\"\"\""
      ],
      "metadata": {
        "id": "lBwSsDYIuzAI"
      },
      "execution_count": 44,
      "outputs": []
    },
    {
      "cell_type": "markdown",
      "source": [
        "-- Next, we will analyze the number of trips taken per month and order by trip_count DESC to view which months were the most popular."
      ],
      "metadata": {
        "id": "rVZ5zoTfwgZq"
      }
    },
    {
      "cell_type": "code",
      "source": [
        "query = \"\"\"\n",
        "SELECT\n",
        "  EXTRACT(YEAR FROM start_date) AS year,\n",
        "  EXTRACT(MONTH FROM start_date) AS month,\n",
        "  COUNT(*) AS trip_count\n",
        "FROM\n",
        "  `bigquery-public-data.san_francisco_bikeshare.bikeshare_trips`\n",
        "GROUP BY\n",
        "  year, month\n",
        "ORDER BY\n",
        "  trip_count DESC;SELECT\n",
        "  EXTRACT(YEAR FROM start_date) AS year,\n",
        "  EXTRACT(MONTH FROM start_date) AS month,\n",
        "  COUNT(*) AS trip_count\n",
        "FROM\n",
        "  `bigquery-public-data.san_francisco_bikeshare.bikeshare_trips`\n",
        "GROUP BY\n",
        "  year, month\n",
        "ORDER BY\n",
        "  trip_count DESC;\n",
        "\"\"\""
      ],
      "metadata": {
        "id": "X7jOGgJgwl1h"
      },
      "execution_count": 28,
      "outputs": []
    },
    {
      "cell_type": "markdown",
      "source": [
        "-- Now we will analyze the average trip duration by the hour of the day. This will help identify if certain times of the day have shorter or longer bike trips, what the peak times are."
      ],
      "metadata": {
        "id": "eG_fuqlcw8wI"
      }
    },
    {
      "cell_type": "code",
      "source": [
        "query = \"\"\"\n",
        "SELECT\n",
        "  EXTRACT(HOUR FROM start_date) AS hour_of_day,\n",
        "  AVG(duration_sec) AS avg_duration_sec\n",
        "FROM\n",
        "  `bigquery-public-data.san_francisco_bikeshare.bikeshare_trips`\n",
        "GROUP BY\n",
        "  hour_of_day\n",
        "ORDER BY\n",
        "  avg_duration_sec DESC;\n",
        "\"\"\""
      ],
      "metadata": {
        "id": "nAHV7hhow_oh"
      },
      "execution_count": 30,
      "outputs": []
    },
    {
      "cell_type": "markdown",
      "source": [
        "-- From this we can see that 3 am, 2am, and 1 am are the times our bikes are used the longest. We can infer that people rely on our bikes to get home after public transport lines stop.\n",
        "\n",
        "-- Now we will query the most popular bike stations based on the number of trips that start or end there."
      ],
      "metadata": {
        "id": "6Ey5Y9IyxGkQ"
      }
    },
    {
      "cell_type": "code",
      "source": [
        "query = \"\"\"\n",
        "SELECT\n",
        "  start_station_name,\n",
        "  COUNT(*) AS start_trip_count\n",
        "FROM\n",
        "  `bigquery-public-data.san_francisco_bikeshare.bikeshare_trips`\n",
        "GROUP BY\n",
        "  start_station_name\n",
        "ORDER BY\n",
        "  start_trip_count DESC\n",
        "LIMIT 10;\n",
        "\"\"\""
      ],
      "metadata": {
        "id": "QXFp8_1sxJyg"
      },
      "execution_count": 31,
      "outputs": []
    },
    {
      "cell_type": "code",
      "source": [
        "query = \"\"\"\n",
        "SELECT\n",
        "  end_station_name,\n",
        "  COUNT(*) AS end_trip_count\n",
        "FROM\n",
        "  `bigquery-public-data.san_francisco_bikeshare.bikeshare_trips`\n",
        "GROUP BY\n",
        "  end_station_name\n",
        "ORDER BY\n",
        "  end_trip_count DESC\n",
        "LIMIT 10;\n",
        "\"\"\""
      ],
      "metadata": {
        "id": "Cy1zBV5_xSEy"
      },
      "execution_count": null,
      "outputs": []
    },
    {
      "cell_type": "markdown",
      "source": [
        "-- From the results we can concur that the top 3 popular start and end stations are San Francisco Caltrain, San Francisco Caltrain 2, and Harry Bridges Plaza. The top 3 popular start and end stations being the same stations tell us that users most likely return the bikes from the same place they rent it from.\n",
        "\n",
        "-- Now, we will compare the average trip duration by user type (e.g., \"Subscriber\" vs. \"Customer\")."
      ],
      "metadata": {
        "id": "0W4SmrvTxVuA"
      }
    },
    {
      "cell_type": "code",
      "source": [
        "query = \"\"\"\n",
        "SELECT\n",
        "  subscriber_type,\n",
        "  AVG(duration_sec) AS avg_duration_sec\n",
        "FROM\n",
        "  `bigquery-public-data.san_francisco_bikeshare.bikeshare_trips`\n",
        "GROUP BY\n",
        "  subscriber_type\n",
        "ORDER BY\n",
        "  avg_duration_sec DESC;\n",
        "\"\"\""
      ],
      "metadata": {
        "id": "-FD7SPNCxYVv"
      },
      "execution_count": 32,
      "outputs": []
    },
    {
      "cell_type": "markdown",
      "source": [
        "-- From this query we come across another subsriber type \"nan\". After taking a look at the table again, it seems there is another column named c_subscription_type that indicated what kind of user the rider was where the subscriber_type column doesn't. To get a more accurate result, we will combine the columns so that the data is uniform and make it a new column named combined_subscription_type."
      ],
      "metadata": {
        "id": "kw1AjfdBxepA"
      }
    },
    {
      "cell_type": "code",
      "source": [
        "query = \"\"\"\n",
        "SELECT\n",
        "  combined_subscription_type,\n",
        "  AVG(duration_sec) AS avg_duration_sec\n",
        "FROM\n",
        "  (\n",
        "    SELECT\n",
        "      IF(subscriber_type = 'nan', c_subscription_type, subscriber_type) AS combined_subscription_type,\n",
        "      duration_sec\n",
        "    FROM\n",
        "      `bigquery-public-data.san_francisco_bikeshare.bikeshare_trips`)\n",
        "GROUP BY\n",
        "  combined_subscription_type\n",
        "ORDER BY\n",
        "  avg_duration_sec DESC;\n",
        "\"\"\""
      ],
      "metadata": {
        "id": "JisdMX6FxhZq"
      },
      "execution_count": 33,
      "outputs": []
    },
    {
      "cell_type": "markdown",
      "source": [
        "-- From this we can see that on average, customers use our bikes for longer trips than subscribers.\n",
        "\n",
        "-- Now that we know which user type uses our bikes for a longer duration, we will now analyze which user type takes more trips on average. We will be using the combined column we made for accurate results."
      ],
      "metadata": {
        "id": "u_l28YRLxnXu"
      }
    },
    {
      "cell_type": "code",
      "source": [
        "query = \"\"\"\n",
        "WITH combined_data AS (\n",
        "  SELECT\n",
        "    IF(subscriber_type = 'nan', c_subscription_type, subscriber_type) AS combined_subscription_type,\n",
        "    duration_sec\n",
        "  FROM\n",
        "    `bigquery-public-data.san_francisco_bikeshare.bikeshare_trips`\n",
        ")\n",
        "\n",
        "SELECT\n",
        "  combined_subscription_type,\n",
        "  COUNT(*) AS total_trips,\n",
        "  SUM(duration_sec) AS total_duration_sec,\n",
        "  AVG(duration_sec) AS avg_trip_duration_sec\n",
        "FROM\n",
        "  combined_data\n",
        "GROUP BY\n",
        "  combined_subscription_type\n",
        "ORDER BY\n",
        "  total_trips DESC;\n",
        "\"\"\""
      ],
      "metadata": {
        "id": "dXt7i1m3xp9k"
      },
      "execution_count": 34,
      "outputs": []
    },
    {
      "cell_type": "markdown",
      "source": [
        "-- From this we can concur that subscribers took more trips than customers.\n",
        "\n",
        "# Conclusion\n",
        "-- After analyzing the data, we conclude that while customers tend to use our bikes for longer trips, subscribers take a significantly higher number of trips overall. Additionally, the top three most popular start and end stations are San Francisco Caltrain, San Francisco Caltrain 2, and Harry Bridges Plaza. To encourage more customers to become subscribers, we could implement a points system where riders earn points for each trip taken or distance ridden. We could also offer flexible subscription options, for example, a Pay-per-mile subscription option for long-distance riders. Furthermore, since the top three start stations are in high demand, ensuring bike availability is crucial for a positive user experience. We could implement a \"Station Full\" notification feature on our app to redirect riders to nearby stations when a station is full."
      ],
      "metadata": {
        "id": "pvTnl81Dxwyw"
      }
    }
  ]
}